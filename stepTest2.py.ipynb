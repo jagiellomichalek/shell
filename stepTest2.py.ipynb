{
 "cells": [
  {
   "cell_type": "code",
   "execution_count": 1,
   "metadata": {},
   "outputs": [
    {
     "name": "stderr",
     "output_type": "stream",
     "text": [
      "Using TensorFlow backend.\n"
     ]
    }
   ],
   "source": [
    "from pandas import Series\n",
    "from pandas import DataFrame\n",
    "from pandas import concat\n",
    "from pandas import read_csv\n",
    "from pandas import datetime\n",
    "from sklearn.metrics import mean_squared_error\n",
    "from sklearn.preprocessing import MinMaxScaler\n",
    "from keras.models import Sequential\n",
    "from keras.layers import Dense, LSTM\n",
    "from math import sqrt\n",
    "from matplotlib import pyplot\n",
    "from numpy import array"
   ]
  },
  {
   "cell_type": "code",
   "execution_count": 2,
   "metadata": {
    "collapsed": true
   },
   "outputs": [],
   "source": [
    "def parser(x):\n",
    "    return datetime.strptime(x, '%y%m%d')\n",
    "def series_to_supervised(data, n_in=1, n_out=1, dropnan=True):\n",
    "    n_vars = 1 if type(data) is list else data.shape[1]\n",
    "    df = DataFrame(data)\n",
    "    cols, names = list(),list()\n",
    "    for i in range(n_in, 0 ,-1):\n",
    "        cols.append(df.shift(i))\n",
    "        names += [('var%d(t-%d)' % (j+1,i)) for j in range(n_vars)]\n",
    "    for i in range(0, n_out):\n",
    "        cols.append(df.shift(-i))\n",
    "        if i == 0:\n",
    "            names += [('var%d(t)' % (j+1)) for j in range(n_vars)]\n",
    "        else:\n",
    "            names += [('var%d(t+%d)' % (j+1, i)) for j in range(n_vars)]\n",
    "    agg = concat(cols, axis =1)\n",
    "    agg.columns = names\n",
    "    if dropnan:\n",
    "        agg.dropna(inplace = True)\n",
    "    return agg"
   ]
  },
  {
   "cell_type": "code",
   "execution_count": 40,
   "metadata": {
    "collapsed": true
   },
   "outputs": [],
   "source": [
    "def difference(dataset, interval =5):\n",
    "    diff = list()\n",
    "    for i in range(interval, len(dataset)):\n",
    "        value = dataset[i] - dataset[i - interval]\n",
    "        diff.append(value)\n",
    "    return Series(diff)\n",
    "def prepare_data(series, n_test, n_lag, n_seq):\n",
    "    raw_values = series.values\n",
    "    diff_series = difference(raw_values, 5)\n",
    "    diff_values = diff_series.values\n",
    "    diff_values = diff_values.reshape(len(diff_values),1)\n",
    "    scaler = MinMaxScaler(feature_range=(-1,1))\n",
    "    scaled_values = scaler.fit_transform(diff_values)\n",
    "    scaled_values = scaled_values.reshape(len(scaled_values),1)\n",
    "    supervised = series_to_supervised(scaled_values, n_lag, n_seq)\n",
    "    supervised_values = supervised.values\n",
    "    train, test = supervised_values[0:-n_test], supervised_values[-n_test:]\n",
    "    return scaler, train, test"
   ]
  },
  {
   "cell_type": "code",
   "execution_count": 41,
   "metadata": {
    "collapsed": true
   },
   "outputs": [],
   "source": [
    "def fit_lstm(train, n_lag, n_seq, n_batch, nb_epoch, n_neurons):\n",
    "    X, y = train[:,0:n_lag], train[:, n_lag:]\n",
    "    X = X.reshape(X.shape[0], 1, X.shape[1])\n",
    "    model = Sequential()\n",
    "    model.add(LSTM(n_neurons, batch_input_shape=(n_batch, X.shape[1], X.shape[2]), stateful=True))\n",
    "    model.add(Dense(y.shape[1]))\n",
    "    model.compile(loss='mean_squared_error', optimizer='adam')\n",
    "    for i in range(nb_epoch):\n",
    "        model.fit(X, y, epochs=1, batch_size = n_batch, verbose=0, shuffle=False)\n",
    "        model.reset_states()\n",
    "    return model"
   ]
  },
  {
   "cell_type": "code",
   "execution_count": 42,
   "metadata": {
    "collapsed": true
   },
   "outputs": [],
   "source": [
    "def forecast_lstm(model, X, n_batch):\n",
    "    X = X.reshape(1,1,len(X))\n",
    "    forecast = model.predict(X, batch_size= n_batch)\n",
    "    return [x for x in forecast[0,:]]\n",
    "def make_forecasts(model, n_batch, train, test, n_lag, n_seq):\n",
    "    forecasts = list()\n",
    "    for i in range(len(test)):\n",
    "        X, y = test[i, 0:n_lag], test[i, n_lag:]\n",
    "        forecast = forecast_lstm(model, X, n_batch)\n",
    "        forecasts.append(forecast)\n",
    "    return forecasts\n",
    "\n"
   ]
  },
  {
   "cell_type": "code",
   "execution_count": 43,
   "metadata": {
    "collapsed": true
   },
   "outputs": [],
   "source": [
    "def inverse_difference(last_ob, forecast):\n",
    "    inverted = list()\n",
    "    inverted.append(forecast[0] + last_ob)\n",
    "    for i in range(1, len(forecast)):\n",
    "        inverted.append(forecast[i] + inverted[i-1])\n",
    "    return inverted\n",
    "\n",
    "def inverse_transform(series, forecasts, scaler, n_test):\n",
    "    inverted = list()\n",
    "    for i in range(len(forecasts)):\n",
    "        forecast = array(forecasts[i])\n",
    "        forecast = forecast.reshape(1, len(forecast))\n",
    "        inv_scale = scaler.inverse_transform(forecast)\n",
    "        inv_scale = inv_scale[0,:]\n",
    "        index = len(series) - n_test + i - 1\n",
    "        last_ob = series.values[index]\n",
    "        inv_diff = inverse_difference(last_ob, inv_scale)\n",
    "        inverted.append(inv_diff)\n",
    "    return inverted"
   ]
  },
  {
   "cell_type": "code",
   "execution_count": 44,
   "metadata": {
    "collapsed": true
   },
   "outputs": [],
   "source": [
    "def evaluate_forecasts(test, forecasts, n_lag, n_seq):\n",
    "    for i in range(n_seq):\n",
    "        actual = [row[i] for row in test]\n",
    "        predicted = [forecast[i] for  forecast in forecasts]\n",
    "        rmse = sqrt(mean_squared_error(actual, predicted))\n",
    "        print('t+%d RMSE: %f' % ((i+1), rmse))\n",
    "def plot_forecasts(series, forecasts, n_test):\n",
    "    pyplot.plot(series.values)\n",
    "    for i in range(len(forecasts)):\n",
    "        off_s = (len(series) - n_test + i - 1)\n",
    "        off_e = off_s + len(forecasts[i]) \n",
    "        xaxis = [x for x in range(off_s, off_e)]\n",
    "        yaxis = series.values[off_s] + forecasts[i]\n",
    "        pyplot.plot(xaxis, forecasts[i], color='red')\n",
    "    pyplot.show()"
   ]
  },
  {
   "cell_type": "code",
   "execution_count": 48,
   "metadata": {},
   "outputs": [
    {
     "name": "stdout",
     "output_type": "stream",
     "text": [
      "TIME\n",
      "2013-10-28    2133\n",
      "2013-10-29    2135\n",
      "2013-10-30    2126\n",
      "2013-10-31    2155\n",
      "2013-11-01    2139\n",
      "Name: STOCK, dtype: int64\n"
     ]
    },
    {
     "name": "stderr",
     "output_type": "stream",
     "text": [
      "/usr/local/lib/python3.5/dist-packages/sklearn/utils/validation.py:444: DataConversionWarning: Data with input dtype int64 was converted to float64 by MinMaxScaler.\n",
      "  warnings.warn(msg, DataConversionWarning)\n"
     ]
    },
    {
     "name": "stdout",
     "output_type": "stream",
     "text": [
      "[[ 0.20183486  0.02752294  0.20183486 -0.18348624 -0.18348624 -0.49541284\n",
      "  -0.27522936 -0.30275229 -0.4587156  -0.19266055  0.39449541  0.79816514\n",
      "   0.76146789  1.          0.96330275  0.34862385 -0.13761468 -0.19266055]\n",
      " [ 0.02752294  0.20183486 -0.18348624 -0.18348624 -0.49541284 -0.27522936\n",
      "  -0.30275229 -0.4587156  -0.19266055  0.39449541  0.79816514  0.76146789\n",
      "   1.          0.96330275  0.34862385 -0.13761468 -0.19266055  0.05504587]\n",
      " [ 0.20183486 -0.18348624 -0.18348624 -0.49541284 -0.27522936 -0.30275229\n",
      "  -0.4587156  -0.19266055  0.39449541  0.79816514  0.76146789  1.\n",
      "   0.96330275  0.34862385 -0.13761468 -0.19266055  0.05504587  0.12844037]\n",
      " [-0.18348624 -0.18348624 -0.49541284 -0.27522936 -0.30275229 -0.4587156\n",
      "  -0.19266055  0.39449541  0.79816514  0.76146789  1.          0.96330275\n",
      "   0.34862385 -0.13761468 -0.19266055  0.05504587  0.12844037  0.14678899]\n",
      " [-0.18348624 -0.49541284 -0.27522936 -0.30275229 -0.4587156  -0.19266055\n",
      "   0.39449541  0.79816514  0.76146789  1.          0.96330275  0.34862385\n",
      "  -0.13761468 -0.19266055  0.05504587  0.12844037  0.14678899  0.10091743]\n",
      " [-0.49541284 -0.27522936 -0.30275229 -0.4587156  -0.19266055  0.39449541\n",
      "   0.79816514  0.76146789  1.          0.96330275  0.34862385 -0.13761468\n",
      "  -0.19266055  0.05504587  0.12844037  0.14678899  0.10091743  0.33944954]\n",
      " [-0.27522936 -0.30275229 -0.4587156  -0.19266055  0.39449541  0.79816514\n",
      "   0.76146789  1.          0.96330275  0.34862385 -0.13761468 -0.19266055\n",
      "   0.05504587  0.12844037  0.14678899  0.10091743  0.33944954  0.43119266]] [[-0.30275229 -0.4587156  -0.19266055  0.39449541  0.79816514  0.76146789\n",
      "   1.          0.96330275  0.34862385 -0.13761468 -0.19266055  0.05504587\n",
      "   0.12844037  0.14678899  0.10091743  0.33944954  0.43119266  0.18348624]\n",
      " [-0.4587156  -0.19266055  0.39449541  0.79816514  0.76146789  1.\n",
      "   0.96330275  0.34862385 -0.13761468 -0.19266055  0.05504587  0.12844037\n",
      "   0.14678899  0.10091743  0.33944954  0.43119266  0.18348624  0.33944954]\n",
      " [-0.19266055  0.39449541  0.79816514  0.76146789  1.          0.96330275\n",
      "   0.34862385 -0.13761468 -0.19266055  0.05504587  0.12844037  0.14678899\n",
      "   0.10091743  0.33944954  0.43119266  0.18348624  0.33944954  0.3853211 ]\n",
      " [ 0.39449541  0.79816514  0.76146789  1.          0.96330275  0.34862385\n",
      "  -0.13761468 -0.19266055  0.05504587  0.12844037  0.14678899  0.10091743\n",
      "   0.33944954  0.43119266  0.18348624  0.33944954  0.3853211   0.0733945 ]\n",
      " [ 0.79816514  0.76146789  1.          0.96330275  0.34862385 -0.13761468\n",
      "  -0.19266055  0.05504587  0.12844037  0.14678899  0.10091743  0.33944954\n",
      "   0.43119266  0.18348624  0.33944954  0.3853211   0.0733945  -0.49541284]\n",
      " [ 0.76146789  1.          0.96330275  0.34862385 -0.13761468 -0.19266055\n",
      "   0.05504587  0.12844037  0.14678899  0.10091743  0.33944954  0.43119266\n",
      "   0.18348624  0.33944954  0.3853211   0.0733945  -0.49541284 -0.50458716]\n",
      " [ 1.          0.96330275  0.34862385 -0.13761468 -0.19266055  0.05504587\n",
      "   0.12844037  0.14678899  0.10091743  0.33944954  0.43119266  0.18348624\n",
      "   0.33944954  0.3853211   0.0733945  -0.49541284 -0.50458716 -0.41284404]\n",
      " [ 0.96330275  0.34862385 -0.13761468 -0.19266055  0.05504587  0.12844037\n",
      "   0.14678899  0.10091743  0.33944954  0.43119266  0.18348624  0.33944954\n",
      "   0.3853211   0.0733945  -0.49541284 -0.50458716 -0.41284404 -0.72477064]\n",
      " [ 0.34862385 -0.13761468 -0.19266055  0.05504587  0.12844037  0.14678899\n",
      "   0.10091743  0.33944954  0.43119266  0.18348624  0.33944954  0.3853211\n",
      "   0.0733945  -0.49541284 -0.50458716 -0.41284404 -0.72477064 -0.72477064]\n",
      " [-0.13761468 -0.19266055  0.05504587  0.12844037  0.14678899  0.10091743\n",
      "   0.33944954  0.43119266  0.18348624  0.33944954  0.3853211   0.0733945\n",
      "  -0.49541284 -0.50458716 -0.41284404 -0.72477064 -0.72477064 -0.43119266]\n",
      " [-0.19266055  0.05504587  0.12844037  0.14678899  0.10091743  0.33944954\n",
      "   0.43119266  0.18348624  0.33944954  0.3853211   0.0733945  -0.49541284\n",
      "  -0.50458716 -0.41284404 -0.72477064 -0.72477064 -0.43119266 -0.55963303]\n",
      " [ 0.05504587  0.12844037  0.14678899  0.10091743  0.33944954  0.43119266\n",
      "   0.18348624  0.33944954  0.3853211   0.0733945  -0.49541284 -0.50458716\n",
      "  -0.41284404 -0.72477064 -0.72477064 -0.43119266 -0.55963303 -1.        ]\n",
      " [ 0.12844037  0.14678899  0.10091743  0.33944954  0.43119266  0.18348624\n",
      "   0.33944954  0.3853211   0.0733945  -0.49541284 -0.50458716 -0.41284404\n",
      "  -0.72477064 -0.72477064 -0.43119266 -0.55963303 -1.         -0.62385321]\n",
      " [ 0.14678899  0.10091743  0.33944954  0.43119266  0.18348624  0.33944954\n",
      "   0.3853211   0.0733945  -0.49541284 -0.50458716 -0.41284404 -0.72477064\n",
      "  -0.72477064 -0.43119266 -0.55963303 -1.         -0.62385321 -0.51376147]\n",
      " [ 0.10091743  0.33944954  0.43119266  0.18348624  0.33944954  0.3853211\n",
      "   0.0733945  -0.49541284 -0.50458716 -0.41284404 -0.72477064 -0.72477064\n",
      "  -0.43119266 -0.55963303 -1.         -0.62385321 -0.51376147 -0.47706422]\n",
      " [ 0.33944954  0.43119266  0.18348624  0.33944954  0.3853211   0.0733945\n",
      "  -0.49541284 -0.50458716 -0.41284404 -0.72477064 -0.72477064 -0.43119266\n",
      "  -0.55963303 -1.         -0.62385321 -0.51376147 -0.47706422 -0.50458716]\n",
      " [ 0.43119266  0.18348624  0.33944954  0.3853211   0.0733945  -0.49541284\n",
      "  -0.50458716 -0.41284404 -0.72477064 -0.72477064 -0.43119266 -0.55963303\n",
      "  -1.         -0.62385321 -0.51376147 -0.47706422 -0.50458716  0.06422018]\n",
      " [ 0.18348624  0.33944954  0.3853211   0.0733945  -0.49541284 -0.50458716\n",
      "  -0.41284404 -0.72477064 -0.72477064 -0.43119266 -0.55963303 -1.\n",
      "  -0.62385321 -0.51376147 -0.47706422 -0.50458716  0.06422018  0.18348624]\n",
      " [ 0.33944954  0.3853211   0.0733945  -0.49541284 -0.50458716 -0.41284404\n",
      "  -0.72477064 -0.72477064 -0.43119266 -0.55963303 -1.         -0.62385321\n",
      "  -0.51376147 -0.47706422 -0.50458716  0.06422018  0.18348624  0.11926606]\n",
      " [ 0.3853211   0.0733945  -0.49541284 -0.50458716 -0.41284404 -0.72477064\n",
      "  -0.72477064 -0.43119266 -0.55963303 -1.         -0.62385321 -0.51376147\n",
      "  -0.47706422 -0.50458716  0.06422018  0.18348624  0.11926606 -0.18348624]\n",
      " [ 0.0733945  -0.49541284 -0.50458716 -0.41284404 -0.72477064 -0.72477064\n",
      "  -0.43119266 -0.55963303 -1.         -0.62385321 -0.51376147 -0.47706422\n",
      "  -0.50458716  0.06422018  0.18348624  0.11926606 -0.18348624 -0.27522936]\n",
      " [-0.49541284 -0.50458716 -0.41284404 -0.72477064 -0.72477064 -0.43119266\n",
      "  -0.55963303 -1.         -0.62385321 -0.51376147 -0.47706422 -0.50458716\n",
      "   0.06422018  0.18348624  0.11926606 -0.18348624 -0.27522936 -0.46788991]\n",
      " [-0.50458716 -0.41284404 -0.72477064 -0.72477064 -0.43119266 -0.55963303\n",
      "  -1.         -0.62385321 -0.51376147 -0.47706422 -0.50458716  0.06422018\n",
      "   0.18348624  0.11926606 -0.18348624 -0.27522936 -0.46788991 -0.66055046]\n",
      " [-0.41284404 -0.72477064 -0.72477064 -0.43119266 -0.55963303 -1.\n",
      "  -0.62385321 -0.51376147 -0.47706422 -0.50458716  0.06422018  0.18348624\n",
      "   0.11926606 -0.18348624 -0.27522936 -0.46788991 -0.66055046 -0.76146789]\n",
      " [-0.72477064 -0.72477064 -0.43119266 -0.55963303 -1.         -0.62385321\n",
      "  -0.51376147 -0.47706422 -0.50458716  0.06422018  0.18348624  0.11926606\n",
      "  -0.18348624 -0.27522936 -0.46788991 -0.66055046 -0.76146789 -0.65137615]\n",
      " [-0.72477064 -0.43119266 -0.55963303 -1.         -0.62385321 -0.51376147\n",
      "  -0.47706422 -0.50458716  0.06422018  0.18348624  0.11926606 -0.18348624\n",
      "  -0.27522936 -0.46788991 -0.66055046 -0.76146789 -0.65137615 -0.33944954]\n",
      " [-0.43119266 -0.55963303 -1.         -0.62385321 -0.51376147 -0.47706422\n",
      "  -0.50458716  0.06422018  0.18348624  0.11926606 -0.18348624 -0.27522936\n",
      "  -0.46788991 -0.66055046 -0.76146789 -0.65137615 -0.33944954 -0.20183486]\n",
      " [-0.55963303 -1.         -0.62385321 -0.51376147 -0.47706422 -0.50458716\n",
      "   0.06422018  0.18348624  0.11926606 -0.18348624 -0.27522936 -0.46788991\n",
      "  -0.66055046 -0.76146789 -0.65137615 -0.33944954 -0.20183486 -0.20183486]\n",
      " [-1.         -0.62385321 -0.51376147 -0.47706422 -0.50458716  0.06422018\n",
      "   0.18348624  0.11926606 -0.18348624 -0.27522936 -0.46788991 -0.66055046\n",
      "  -0.76146789 -0.65137615 -0.33944954 -0.20183486 -0.20183486 -0.04587156]\n",
      " [-0.62385321 -0.51376147 -0.47706422 -0.50458716  0.06422018  0.18348624\n",
      "   0.11926606 -0.18348624 -0.27522936 -0.46788991 -0.66055046 -0.76146789\n",
      "  -0.65137615 -0.33944954 -0.20183486 -0.20183486 -0.04587156 -0.09174312]]\n",
      "Train: (7, 18), Test: (30, 18)\n"
     ]
    },
    {
     "name": "stdout",
     "output_type": "stream",
     "text": [
      "t+1 RMSE: 46.215139\n",
      "t+2 RMSE: 92.778431\n",
      "t+3 RMSE: 138.145152\n",
      "t+4 RMSE: 186.334174\n",
      "t+5 RMSE: 229.024114\n",
      "t+6 RMSE: 266.384162\n",
      "t+7 RMSE: 301.976431\n",
      "t+8 RMSE: 334.677646\n",
      "t+9 RMSE: 363.328967\n"
     ]
    },
    {
     "data": {
      "image/png": "[encoded data removed]",
      "text/plain": [
       "<matplotlib.figure.Figure at 0x7f3c183f60b8>"
      ]
     },
     "metadata": {},
     "output_type": "display_data"
    }
   ],
   "source": [
    "series = read_csv('stocktest.csv', header = 0, parse_dates=[0], index_col=0, squeeze=True, date_parser=parser)\n",
    "print(series.head())\n",
    "n_lag = 9\n",
    "n_seq = 9\n",
    "n_test = 30\n",
    "n_epochs = 1\n",
    "n_batch = 1\n",
    "n_neurons = 1\n",
    "#train, test = prepare_data(series, n_test, n_lag, n_seq)\n",
    "scaler, train, test = prepare_data(series, n_test, n_lag, n_seq)\n",
    "model = fit_lstm(train, n_lag, n_seq, n_batch, n_epochs, n_neurons)\n",
    "print(train ,test)\n",
    "print('Train: %s, Test: %s' % (train.shape, test.shape))\n",
    "#forecasts = make_forecasts(train, test, n_lag, n_seq)\n",
    "forecasts = make_forecasts(model, n_batch, train, test, n_lag, n_seq)\n",
    "forecasts = inverse_transform(series, forecasts, scaler , n_test + 2)\n",
    "actual = [row[n_lag:] for row in test]\n",
    "acutal = inverse_transform(series, actual, scaler, n_test + 2)\n",
    "evaluate_forecasts(acutal, forecasts, n_lag, n_seq)\n",
    "plot_forecasts(series, forecasts, n_test + 2)"
   ]
  },
  {
   "cell_type": "code",
   "execution_count": null,
   "metadata": {
    "collapsed": true
   },
   "outputs": [],
   "source": []
  }
 ],
 "metadata": {
  "kernelspec": {
   "display_name": "Python 3",
   "language": "python",
   "name": "python3"
  },
  "language_info": {
   "codemirror_mode": {
    "name": "ipython",
    "version": 3
   },
   "file_extension": ".py",
   "mimetype": "text/x-python",
   "name": "python",
   "nbconvert_exporter": "python",
   "pygments_lexer": "ipython3",
   "version": "3.5.2"
  }
 },
 "nbformat": 4,
 "nbformat_minor": 2
}
